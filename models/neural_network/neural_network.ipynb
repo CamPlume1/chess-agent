{
 "cells": [
  {
   "cell_type": "code",
   "execution_count": 7,
   "metadata": {},
   "outputs": [],
   "source": [
    "import pandas as pd\n",
    "import numpy as np\n",
    "from sklearn.model_selection import train_test_split\n",
    "import torch\n",
    "import torch.nn as nn\n",
    "import torch.optim as optim\n",
    "from torch.utils.data import DataLoader\n",
    "from neural_network import NeuralNetworkModel, ChessDataset, ChessEvaluationNeuralNetwork"
   ]
  },
  {
   "cell_type": "code",
   "execution_count": 8,
   "metadata": {},
   "outputs": [],
   "source": [
    "def eval_to_output(eval: str):\n",
    "    if eval.startswith('#+'):\n",
    "        return 10000.0\n",
    "    elif eval.startswith('#-'):\n",
    "        return -10000.0\n",
    "    else:\n",
    "        return float(eval)"
   ]
  },
  {
   "cell_type": "code",
   "execution_count": 9,
   "metadata": {},
   "outputs": [],
   "source": [
    "df = pd.read_csv(\"../../data/chess_data.csv\")\n",
    "\n",
    "X = df['FEN'].apply(NeuralNetworkModel.fen_to_feature_array).tolist()\n",
    "X = np.array(X, dtype=np.float32)\n",
    "y = df['Evaluation'].apply(eval_to_output).astype(np.float32).values.reshape(-1, 1)\n",
    "\n",
    "X_train, X_test, y_train, y_test = train_test_split(X, y, test_size=0.2, random_state=42)\n",
    "\n",
    "\n",
    "train_dataset = ChessDataset(X_train, y_train)\n",
    "test_dataset = ChessDataset(X_test, y_test)\n",
    "\n",
    "train_loader = DataLoader(train_dataset, batch_size=32, shuffle=True)\n",
    "test_loader = DataLoader(test_dataset, batch_size=32)"
   ]
  },
  {
   "cell_type": "code",
   "execution_count": 10,
   "metadata": {},
   "outputs": [
    {
     "name": "stdout",
     "output_type": "stream",
     "text": [
      "Epoch 1, Loss: 933920.7576\n",
      "Epoch 2, Loss: 869039.5212\n",
      "Epoch 3, Loss: 817786.7829\n",
      "Epoch 4, Loss: 772132.5863\n",
      "Epoch 5, Loss: 746711.7809\n",
      "Epoch 6, Loss: 720171.1819\n",
      "Epoch 7, Loss: 699161.9400\n",
      "Epoch 8, Loss: 680840.6228\n",
      "Epoch 9, Loss: 665805.2643\n",
      "Epoch 10, Loss: 647935.0419\n",
      "Epoch 11, Loss: 635304.0099\n",
      "Epoch 12, Loss: 613199.6442\n",
      "Epoch 13, Loss: 594735.2897\n",
      "Epoch 14, Loss: 581392.1526\n",
      "Epoch 15, Loss: 557383.3604\n",
      "Epoch 16, Loss: 536238.8561\n",
      "Epoch 17, Loss: 512286.3800\n",
      "Epoch 18, Loss: 503319.3020\n",
      "Epoch 19, Loss: 491407.9439\n",
      "Epoch 20, Loss: 471526.6525\n"
     ]
    }
   ],
   "source": [
    "model = ChessEvaluationNeuralNetwork(input_size=X.shape[1])\n",
    "criterion = nn.MSELoss()\n",
    "optimizer = optim.Adam(model.parameters(), lr=0.001)\n",
    "\n",
    "for epoch in range(20):\n",
    "    model.train()\n",
    "    running_loss = 0.0\n",
    "    for inputs, targets in train_loader:\n",
    "        optimizer.zero_grad()\n",
    "        outputs = model(inputs)\n",
    "        loss = criterion(outputs, targets)\n",
    "        loss.backward()\n",
    "        optimizer.step()\n",
    "        running_loss += loss.item()\n",
    "\n",
    "    print(f\"Epoch {epoch+1}, Loss: {running_loss / len(train_loader):.4f}\")"
   ]
  },
  {
   "cell_type": "code",
   "execution_count": 11,
   "metadata": {},
   "outputs": [
    {
     "name": "stdout",
     "output_type": "stream",
     "text": [
      "\n",
      "Test RMSE: 776.5947\n"
     ]
    }
   ],
   "source": [
    "model.eval()\n",
    "test_loss = 0.0\n",
    "with torch.no_grad():\n",
    "    for inputs, targets in test_loader:\n",
    "        outputs = model(inputs)\n",
    "        loss = criterion(outputs, targets)\n",
    "        test_loss += loss.item()\n",
    "\n",
    "avg_test_loss = test_loss / len(test_loader)\n",
    "rmse_error = np.sqrt(avg_test_loss)\n",
    "print(f\"\\nTest RMSE: {rmse_error:.4f}\")"
   ]
  },
  {
   "cell_type": "code",
   "execution_count": 12,
   "metadata": {},
   "outputs": [],
   "source": [
    "torch.save(model.state_dict(), 'neural_network.pth')"
   ]
  }
 ],
 "metadata": {
  "kernelspec": {
   "display_name": "venv",
   "language": "python",
   "name": "python3"
  },
  "language_info": {
   "codemirror_mode": {
    "name": "ipython",
    "version": 3
   },
   "file_extension": ".py",
   "mimetype": "text/x-python",
   "name": "python",
   "nbconvert_exporter": "python",
   "pygments_lexer": "ipython3",
   "version": "3.11.6"
  }
 },
 "nbformat": 4,
 "nbformat_minor": 2
}
