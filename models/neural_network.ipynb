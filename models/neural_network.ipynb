{
 "cells": [
  {
   "cell_type": "code",
   "execution_count": 40,
   "metadata": {},
   "outputs": [],
   "source": [
    "import pandas as pd\n",
    "import numpy as np\n",
    "from sklearn.model_selection import train_test_split\n",
    "import torch\n",
    "import torch.nn as nn\n",
    "import torch.optim as optim\n",
    "from torch.utils.data import Dataset, DataLoader"
   ]
  },
  {
   "cell_type": "code",
   "execution_count": 41,
   "metadata": {},
   "outputs": [],
   "source": [
    "def fen_to_feature_array(fen: str):\n",
    "    game_attributes = fen.split()\n",
    "\n",
    "    assert len(game_attributes) == 6\n",
    "\n",
    "    board, turn, castling, en_passant, halfmove, fullmove = game_attributes\n",
    "\n",
    "    piece_map = {\n",
    "        'p': 1, 'n': 2, 'b': 3, 'r': 4, 'q': 5, 'k': 6,\n",
    "        'P': 7, 'N': 8, 'B': 9, 'R': 10, 'Q': 11, 'K': 12\n",
    "    }\n",
    "\n",
    "    board_vector = []\n",
    "    for row in board.split('/'):\n",
    "        row_data = []\n",
    "        for ch in row:\n",
    "            if ch.isdigit():\n",
    "                row_data.extend([0] * int(ch))\n",
    "            else:\n",
    "                row_data.append(piece_map[ch])\n",
    "        board_vector.extend(row_data)\n",
    "\n",
    "    turn_val = 0 if turn == 'w' else 1\n",
    "\n",
    "    castling_vec = [int(c in castling) for c in 'KQkq']\n",
    "\n",
    "    if en_passant != '-':\n",
    "        file = ord(en_passant[0]) - ord('a')\n",
    "        rank = int(en_passant[1]) - 1\n",
    "        en_passant_val = rank * 8 + file\n",
    "    else:\n",
    "        en_passant_val = -1\n",
    "\n",
    "    halfmove_val = int(halfmove)\n",
    "    fullmove_val = int(fullmove)\n",
    "\n",
    "    return board_vector + [turn_val] + castling_vec + [en_passant_val, halfmove_val, fullmove_val]"
   ]
  },
  {
   "cell_type": "code",
   "execution_count": 42,
   "metadata": {},
   "outputs": [],
   "source": [
    "def eval_to_output(eval: str):\n",
    "    if eval.startswith('#+'):\n",
    "        return 10000.0\n",
    "    elif eval.startswith('#-'):\n",
    "        return -10000.0\n",
    "    else:\n",
    "        return float(eval)"
   ]
  },
  {
   "cell_type": "code",
   "execution_count": 43,
   "metadata": {},
   "outputs": [],
   "source": [
    "class ChessDataset(Dataset):\n",
    "    def __init__(self, X, y):\n",
    "        self.X = torch.tensor(X, dtype=torch.float32)\n",
    "        self.y = torch.tensor(y, dtype=torch.float32)\n",
    "\n",
    "    def __len__(self):\n",
    "        return len(self.X)\n",
    "\n",
    "    def __getitem__(self, idx):\n",
    "        return self.X[idx], self.y[idx]"
   ]
  },
  {
   "cell_type": "code",
   "execution_count": 44,
   "metadata": {},
   "outputs": [],
   "source": [
    "class ChessEvalNN(nn.Module):\n",
    "    def __init__(self, input_size):\n",
    "        super().__init__()\n",
    "        self.model = nn.Sequential(\n",
    "            nn.Linear(input_size, 256),\n",
    "            nn.ReLU(),\n",
    "            nn.Linear(256, 128),\n",
    "            nn.ReLU(),\n",
    "            nn.Linear(128, 64),\n",
    "            nn.ReLU(),\n",
    "            nn.Linear(64, 32),\n",
    "            nn.ReLU(),\n",
    "            nn.Linear(32, 1)\n",
    "        )\n",
    "\n",
    "    def forward(self, x):\n",
    "        return self.model(x)"
   ]
  },
  {
   "cell_type": "code",
   "execution_count": 45,
   "metadata": {},
   "outputs": [],
   "source": [
    "df = pd.read_csv(\"../data/chess_data.csv\")\n",
    "\n",
    "X = df['FEN'].apply(fen_to_feature_array).tolist()\n",
    "X = np.array(X, dtype=np.float32)\n",
    "y = df['Evaluation'].apply(eval_to_output).astype(np.float32).values.reshape(-1, 1)\n",
    "\n",
    "X_train, X_test, y_train, y_test = train_test_split(X, y, test_size=0.2, random_state=42)\n",
    "\n",
    "\n",
    "train_dataset = ChessDataset(X_train, y_train)\n",
    "test_dataset = ChessDataset(X_test, y_test)\n",
    "\n",
    "train_loader = DataLoader(train_dataset, batch_size=32, shuffle=True)\n",
    "test_loader = DataLoader(test_dataset, batch_size=32)"
   ]
  },
  {
   "cell_type": "code",
   "execution_count": 46,
   "metadata": {},
   "outputs": [
    {
     "name": "stdout",
     "output_type": "stream",
     "text": [
      "Epoch 1, Loss: 926990.9508\n",
      "Epoch 2, Loss: 856200.7449\n",
      "Epoch 3, Loss: 742052.1216\n",
      "Epoch 4, Loss: 621593.1967\n",
      "Epoch 5, Loss: 536393.9733\n",
      "Epoch 6, Loss: 475669.3473\n",
      "Epoch 7, Loss: 441266.7956\n",
      "Epoch 8, Loss: 410945.1280\n",
      "Epoch 9, Loss: 386744.1823\n",
      "Epoch 10, Loss: 367655.4419\n",
      "Epoch 11, Loss: 350904.9223\n",
      "Epoch 12, Loss: 339595.0116\n",
      "Epoch 13, Loss: 327900.7605\n",
      "Epoch 14, Loss: 313488.6695\n",
      "Epoch 15, Loss: 303164.2338\n",
      "Epoch 16, Loss: 288482.7106\n",
      "Epoch 17, Loss: 275713.7918\n",
      "Epoch 18, Loss: 263792.1223\n",
      "Epoch 19, Loss: 236985.6281\n",
      "Epoch 20, Loss: 219595.2122\n"
     ]
    }
   ],
   "source": [
    "model = ChessEvalNN(input_size=X.shape[1])\n",
    "criterion = nn.MSELoss()\n",
    "optimizer = optim.Adam(model.parameters(), lr=0.001)\n",
    "\n",
    "for epoch in range(20):\n",
    "    model.train()\n",
    "    running_loss = 0.0\n",
    "    for inputs, targets in train_loader:\n",
    "        optimizer.zero_grad()\n",
    "        outputs = model(inputs)\n",
    "        loss = criterion(outputs, targets)\n",
    "        loss.backward()\n",
    "        optimizer.step()\n",
    "        running_loss += loss.item()\n",
    "\n",
    "    print(f\"Epoch {epoch+1}, Loss: {running_loss / len(train_loader):.4f}\")"
   ]
  },
  {
   "cell_type": "code",
   "execution_count": 47,
   "metadata": {},
   "outputs": [
    {
     "name": "stdout",
     "output_type": "stream",
     "text": [
      "\n",
      "Test RMSE: 644.8390\n"
     ]
    }
   ],
   "source": [
    "model.eval()\n",
    "test_loss = 0.0\n",
    "with torch.no_grad():\n",
    "    for inputs, targets in test_loader:\n",
    "        outputs = model(inputs)\n",
    "        loss = criterion(outputs, targets)\n",
    "        test_loss += loss.item()\n",
    "\n",
    "avg_test_loss = test_loss / len(test_loader)\n",
    "rmse_error = np.sqrt(avg_test_loss)\n",
    "print(f\"\\nTest RMSE: {rmse_error:.4f}\")"
   ]
  }
 ],
 "metadata": {
  "kernelspec": {
   "display_name": "venv",
   "language": "python",
   "name": "python3"
  },
  "language_info": {
   "codemirror_mode": {
    "name": "ipython",
    "version": 3
   },
   "file_extension": ".py",
   "mimetype": "text/x-python",
   "name": "python",
   "nbconvert_exporter": "python",
   "pygments_lexer": "ipython3",
   "version": "3.11.6"
  }
 },
 "nbformat": 4,
 "nbformat_minor": 2
}
