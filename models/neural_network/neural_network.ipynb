{
 "cells": [
  {
   "cell_type": "code",
   "execution_count": 7,
   "metadata": {},
   "outputs": [],
   "source": [
    "import pandas as pd\n",
    "import numpy as np\n",
    "from sklearn.model_selection import train_test_split\n",
    "import torch\n",
    "import torch.nn as nn\n",
    "import torch.optim as optim\n",
    "from torch.utils.data import DataLoader\n",
    "from neural_network import NeuralNetworkModel, ChessDataset, ChessEvaluationNeuralNetwork"
   ]
  },
  {
   "cell_type": "code",
   "execution_count": null,
   "metadata": {},
   "outputs": [
    {
     "name": "stdout",
     "output_type": "stream",
     "text": [
      "99445\n"
     ]
    }
   ],
   "source": [
    "df = pd.read_csv(\"../../data/chess_data.csv\")\n",
    "\n",
    "df = df[~df['Evaluation'].str.contains('#', na=False)]\n",
    "X = df['FEN'].apply(NeuralNetworkModel.fen_to_feature_array).tolist()\n",
    "X = np.array(X, dtype=np.float32)\n",
    "y = df['Evaluation'].apply(lambda x: float(x)).astype(np.float32).values.reshape(-1, 1)\n",
    "\n",
    "X_train, X_test, y_train, y_test = train_test_split(X, y, test_size=0.2, random_state=42)\n",
    "\n",
    "\n",
    "train_dataset = ChessDataset(X_train, y_train)\n",
    "test_dataset = ChessDataset(X_test, y_test)\n",
    "\n",
    "train_loader = DataLoader(train_dataset, batch_size=32, shuffle=True)\n",
    "test_loader = DataLoader(test_dataset, batch_size=32)"
   ]
  },
  {
   "cell_type": "code",
   "execution_count": 9,
   "metadata": {},
   "outputs": [
    {
     "name": "stdout",
     "output_type": "stream",
     "text": [
      "Epoch 1, Loss: 366673.3426\n",
      "Epoch 2, Loss: 344497.0250\n",
      "Epoch 3, Loss: 323682.0047\n",
      "Epoch 4, Loss: 312177.1111\n",
      "Epoch 5, Loss: 300682.6560\n",
      "Epoch 6, Loss: 290217.8505\n",
      "Epoch 7, Loss: 283210.7884\n",
      "Epoch 8, Loss: 275748.6592\n",
      "Epoch 9, Loss: 269513.0100\n",
      "Epoch 10, Loss: 263012.3995\n",
      "Epoch 11, Loss: 257303.1214\n",
      "Epoch 12, Loss: 249989.6456\n",
      "Epoch 13, Loss: 247548.1921\n",
      "Epoch 14, Loss: 239893.4793\n",
      "Epoch 15, Loss: 234378.9842\n",
      "Epoch 16, Loss: 232860.3281\n",
      "Epoch 17, Loss: 228083.5047\n",
      "Epoch 18, Loss: 221183.7003\n",
      "Epoch 19, Loss: 219043.0179\n",
      "Epoch 20, Loss: 210897.2728\n",
      "Epoch 21, Loss: 205770.7189\n",
      "Epoch 22, Loss: 203129.9813\n",
      "Epoch 23, Loss: 199805.3085\n",
      "Epoch 24, Loss: 195121.6153\n",
      "Epoch 25, Loss: 193357.4672\n",
      "Epoch 26, Loss: 186828.1628\n",
      "Epoch 27, Loss: 183193.0778\n",
      "Epoch 28, Loss: 181511.5659\n",
      "Epoch 29, Loss: 179507.5280\n",
      "Epoch 30, Loss: 172510.3164\n",
      "Epoch 31, Loss: 166993.4629\n",
      "Epoch 32, Loss: 167765.3292\n",
      "Epoch 33, Loss: 165591.6568\n",
      "Epoch 34, Loss: 162539.7240\n",
      "Epoch 35, Loss: 160729.1550\n",
      "Epoch 36, Loss: 155266.0793\n",
      "Epoch 37, Loss: 155421.0165\n",
      "Epoch 38, Loss: 152115.8424\n",
      "Epoch 39, Loss: 150169.5487\n",
      "Epoch 40, Loss: 146477.2663\n",
      "Epoch 41, Loss: 145743.8930\n",
      "Epoch 42, Loss: 142809.7810\n",
      "Epoch 43, Loss: 141161.2563\n",
      "Epoch 44, Loss: 137921.8613\n",
      "Epoch 45, Loss: 137645.5244\n",
      "Epoch 46, Loss: 135789.4557\n",
      "Epoch 47, Loss: 132948.6611\n",
      "Epoch 48, Loss: 131318.6254\n",
      "Epoch 49, Loss: 128645.9819\n",
      "Epoch 50, Loss: 130352.7996\n"
     ]
    }
   ],
   "source": [
    "model = ChessEvaluationNeuralNetwork(input_size=X.shape[1])\n",
    "criterion = nn.MSELoss()\n",
    "optimizer = optim.Adam(model.parameters(), lr=0.001)\n",
    "\n",
    "for epoch in range(100):\n",
    "    model.train()\n",
    "    running_loss = 0.0\n",
    "    for inputs, targets in train_loader:\n",
    "        optimizer.zero_grad()\n",
    "        outputs = model(inputs)\n",
    "        loss = criterion(outputs, targets)\n",
    "        loss.backward()\n",
    "        optimizer.step()\n",
    "        running_loss += loss.item()\n",
    "\n",
    "    print(f\"Epoch {epoch+1}, Loss: {running_loss / len(train_loader):.4f}\")"
   ]
  },
  {
   "cell_type": "code",
   "execution_count": 10,
   "metadata": {},
   "outputs": [
    {
     "name": "stdout",
     "output_type": "stream",
     "text": [
      "\n",
      "Test RMSE: 520.6366\n"
     ]
    }
   ],
   "source": [
    "model.eval()\n",
    "test_loss = 0.0\n",
    "with torch.no_grad():\n",
    "    for inputs, targets in test_loader:\n",
    "        outputs = model(inputs)\n",
    "        loss = criterion(outputs, targets)\n",
    "        test_loss += loss.item()\n",
    "\n",
    "avg_test_loss = test_loss / len(test_loader)\n",
    "rmse_error = np.sqrt(avg_test_loss)\n",
    "print(f\"\\nTest RMSE: {rmse_error:.4f}\")"
   ]
  },
  {
   "cell_type": "code",
   "execution_count": 14,
   "metadata": {},
   "outputs": [],
   "source": [
    "torch.save(model.state_dict(), 'neural_network.pth')"
   ]
  },
  {
   "cell_type": "code",
   "execution_count": null,
   "metadata": {},
   "outputs": [],
   "source": [
    "print(\"test\")"
   ]
  }
 ],
 "metadata": {
  "kernelspec": {
   "display_name": "venv",
   "language": "python",
   "name": "python3"
  },
  "language_info": {
   "codemirror_mode": {
    "name": "ipython",
    "version": 3
   },
   "file_extension": ".py",
   "mimetype": "text/x-python",
   "name": "python",
   "nbconvert_exporter": "python",
   "pygments_lexer": "ipython3",
   "version": "3.11.6"
  }
 },
 "nbformat": 4,
 "nbformat_minor": 2
}
