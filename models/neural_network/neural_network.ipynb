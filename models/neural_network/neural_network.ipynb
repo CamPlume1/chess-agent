{
 "cells": [
  {
   "cell_type": "code",
   "execution_count": 19,
   "metadata": {},
   "outputs": [],
   "source": [
    "import pandas as pd\n",
    "import numpy as np\n",
    "from sklearn.model_selection import train_test_split\n",
    "import torch\n",
    "import torch.nn as nn\n",
    "import torch.optim as optim\n",
    "from torch.utils.data import DataLoader\n",
    "from neural_network import NeuralNetworkModel, ChessDataset, ChessEvaluationNeuralNetwork"
   ]
  },
  {
   "cell_type": "code",
   "execution_count": 20,
   "metadata": {},
   "outputs": [],
   "source": [
    "def eval_to_output(eval: str):\n",
    "    if eval.startswith('#+'):\n",
    "        return 10000.0\n",
    "    elif eval.startswith('#-'):\n",
    "        return -10000.0\n",
    "    else:\n",
    "        return float(eval)"
   ]
  },
  {
   "cell_type": "code",
   "execution_count": 21,
   "metadata": {},
   "outputs": [],
   "source": [
    "df = pd.read_csv(\"../../data/chess_data.csv\")\n",
    "\n",
    "X = df['FEN'].apply(NeuralNetworkModel.fen_to_feature_array).tolist()\n",
    "X = np.array(X, dtype=np.float32)\n",
    "y = df['Evaluation'].apply(eval_to_output).astype(np.float32).values.reshape(-1, 1)\n",
    "\n",
    "X_train, X_test, y_train, y_test = train_test_split(X, y, test_size=0.2, random_state=42)\n",
    "\n",
    "\n",
    "train_dataset = ChessDataset(X_train, y_train)\n",
    "test_dataset = ChessDataset(X_test, y_test)\n",
    "\n",
    "train_loader = DataLoader(train_dataset, batch_size=32, shuffle=True)\n",
    "test_loader = DataLoader(test_dataset, batch_size=32)"
   ]
  },
  {
   "cell_type": "code",
   "execution_count": 22,
   "metadata": {},
   "outputs": [
    {
     "name": "stdout",
     "output_type": "stream",
     "text": [
      "Epoch 1, Loss: 934807.0217\n",
      "Epoch 2, Loss: 874156.7785\n",
      "Epoch 3, Loss: 814856.8661\n",
      "Epoch 4, Loss: 775606.7666\n",
      "Epoch 5, Loss: 744873.3567\n",
      "Epoch 6, Loss: 729293.2649\n",
      "Epoch 7, Loss: 699784.9513\n",
      "Epoch 8, Loss: 691439.8746\n",
      "Epoch 9, Loss: 672116.3438\n",
      "Epoch 10, Loss: 646672.6937\n",
      "Epoch 11, Loss: 633821.9253\n",
      "Epoch 12, Loss: 617288.0042\n",
      "Epoch 13, Loss: 598315.1306\n",
      "Epoch 14, Loss: 573739.1544\n",
      "Epoch 15, Loss: 557521.1606\n",
      "Epoch 16, Loss: 544370.5834\n",
      "Epoch 17, Loss: 520475.2927\n",
      "Epoch 18, Loss: 497779.5022\n",
      "Epoch 19, Loss: 482544.6814\n",
      "Epoch 20, Loss: 464988.5220\n",
      "Epoch 21, Loss: 454491.4145\n",
      "Epoch 22, Loss: 438711.3097\n",
      "Epoch 23, Loss: 425661.3795\n",
      "Epoch 24, Loss: 413898.6615\n",
      "Epoch 25, Loss: 406642.8397\n",
      "Epoch 26, Loss: 395747.9575\n",
      "Epoch 27, Loss: 384835.9787\n",
      "Epoch 28, Loss: 384322.1367\n",
      "Epoch 29, Loss: 373317.7943\n",
      "Epoch 30, Loss: 367012.2460\n",
      "Epoch 31, Loss: 359958.8377\n",
      "Epoch 32, Loss: 356391.6339\n",
      "Epoch 33, Loss: 345026.5919\n",
      "Epoch 34, Loss: 339160.0112\n",
      "Epoch 35, Loss: 332751.5156\n",
      "Epoch 36, Loss: 338202.3310\n",
      "Epoch 37, Loss: 327969.9094\n",
      "Epoch 38, Loss: 319806.3040\n",
      "Epoch 39, Loss: 314244.9487\n",
      "Epoch 40, Loss: 310744.3114\n",
      "Epoch 41, Loss: 304332.7110\n",
      "Epoch 42, Loss: 307957.1612\n",
      "Epoch 43, Loss: 294598.7164\n",
      "Epoch 44, Loss: 298235.1112\n",
      "Epoch 45, Loss: 290426.7124\n",
      "Epoch 46, Loss: 281544.5515\n",
      "Epoch 47, Loss: 281299.6509\n",
      "Epoch 48, Loss: 274296.0038\n",
      "Epoch 49, Loss: 274238.7666\n",
      "Epoch 50, Loss: 263717.3693\n"
     ]
    }
   ],
   "source": [
    "model = ChessEvaluationNeuralNetwork(input_size=X.shape[1])\n",
    "criterion = nn.MSELoss()\n",
    "optimizer = optim.Adam(model.parameters(), lr=0.001)\n",
    "\n",
    "for epoch in range(50):\n",
    "    model.train()\n",
    "    running_loss = 0.0\n",
    "    for inputs, targets in train_loader:\n",
    "        optimizer.zero_grad()\n",
    "        outputs = model(inputs)\n",
    "        loss = criterion(outputs, targets)\n",
    "        loss.backward()\n",
    "        optimizer.step()\n",
    "        running_loss += loss.item()\n",
    "\n",
    "    print(f\"Epoch {epoch+1}, Loss: {running_loss / len(train_loader):.4f}\")"
   ]
  },
  {
   "cell_type": "code",
   "execution_count": 23,
   "metadata": {},
   "outputs": [
    {
     "name": "stdout",
     "output_type": "stream",
     "text": [
      "\n",
      "Test RMSE: 750.2820\n"
     ]
    }
   ],
   "source": [
    "model.eval()\n",
    "test_loss = 0.0\n",
    "with torch.no_grad():\n",
    "    for inputs, targets in test_loader:\n",
    "        outputs = model(inputs)\n",
    "        loss = criterion(outputs, targets)\n",
    "        test_loss += loss.item()\n",
    "\n",
    "avg_test_loss = test_loss / len(test_loader)\n",
    "rmse_error = np.sqrt(avg_test_loss)\n",
    "print(f\"\\nTest RMSE: {rmse_error:.4f}\")"
   ]
  },
  {
   "cell_type": "code",
   "execution_count": 24,
   "metadata": {},
   "outputs": [],
   "source": [
    "torch.save(model.state_dict(), 'neural_network.pth')"
   ]
  }
 ],
 "metadata": {
  "kernelspec": {
   "display_name": "venv",
   "language": "python",
   "name": "python3"
  },
  "language_info": {
   "codemirror_mode": {
    "name": "ipython",
    "version": 3
   },
   "file_extension": ".py",
   "mimetype": "text/x-python",
   "name": "python",
   "nbconvert_exporter": "python",
   "pygments_lexer": "ipython3",
   "version": "3.11.6"
  }
 },
 "nbformat": 4,
 "nbformat_minor": 2
}
