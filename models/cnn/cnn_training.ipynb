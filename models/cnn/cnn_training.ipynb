{
 "cells": [
  {
   "cell_type": "code",
   "execution_count": 7,
   "id": "200874b2",
   "metadata": {},
   "outputs": [],
   "source": [
    "import pandas as pd"
   ]
  },
  {
   "cell_type": "code",
   "execution_count": 8,
   "id": "f39e52dc",
   "metadata": {},
   "outputs": [],
   "source": [
    "from sklearn.model_selection import train_test_split\n",
    "from cnn import ChessDataset, ChessEvaluationConvolutionalNetwork, ConvolutionInputModel\n",
    "from torch.utils.data import DataLoader\n",
    "import torch\n",
    "\n",
    "\n",
    "df = pd.read_csv('../../data/chess_data.csv')\n",
    "df = df[~df['Evaluation'].str.contains('#', na=False)]\n",
    "\n",
    "df = df.reset_index(drop=True)\n",
    "\n",
    "\n",
    "df['board_vec'] = df.apply(lambda row: ConvolutionInputModel.fen_to_feature_array(row['FEN'])[0].squeeze(0), axis=1)\n",
    "df['meta_vec'] = df.apply(lambda row: ConvolutionInputModel.fen_to_feature_array(row['FEN'])[1].squeeze(0), axis=1)\n",
    "\n",
    "X = df[['board_vec', 'meta_vec']]\n",
    "df['Evaluation'] = pd.to_numeric(df['Evaluation'], errors='raise')\n",
    "Y = (df['Evaluation'] - df['Evaluation'].min()) / (df['Evaluation'].max() - df['Evaluation'].min())\n",
    "X_train, X_test, y_train, y_test = train_test_split(X, Y, test_size=0.2, random_state=42)\n",
    "\n",
    "X_train = X_train.reset_index(drop=True)\n",
    "X_test = X_test.reset_index(drop=True)\n",
    "y_train = y_train.reset_index(drop=True)\n",
    "y_test = y_test.reset_index(drop=True)\n",
    "\n",
    "y_train_tensor = torch.tensor(y_train.values, dtype=torch.float32).view(-1, 1)  # Convert to a column tensor\n",
    "y_test_tensor = torch.tensor(y_test.values, dtype=torch.float32).view(-1, 1)\n",
    "\n",
    "train_dataset = ChessDataset(X_train, y_train_tensor)\n",
    "test_dataset = ChessDataset(X_test, y_test_tensor)\n",
    "\n",
    "train_loader = DataLoader(train_dataset, batch_size=32, shuffle=True)\n",
    "test_loader = DataLoader(test_dataset, batch_size=32)\n",
    "\n"
   ]
  },
  {
   "cell_type": "code",
   "execution_count": 9,
   "id": "4a4a2779",
   "metadata": {},
   "outputs": [
    {
     "name": "stdout",
     "output_type": "stream",
     "text": [
      "Epoch 1/10, Epoch Loss: 0.001021010335534811\n",
      "Epoch 2/10, Epoch Loss: 1.8663857190404087e-05\n",
      "Epoch 3/10, Epoch Loss: 0.0008417324279434979\n",
      "Epoch 4/10, Epoch Loss: 0.00023078141384758055\n",
      "Epoch 5/10, Epoch Loss: 0.00013765107723884284\n",
      "Epoch 6/10, Epoch Loss: 6.124500941950828e-05\n",
      "Epoch 7/10, Epoch Loss: 0.00040205568075180054\n",
      "Epoch 8/10, Epoch Loss: 2.9310069294297136e-05\n",
      "Epoch 9/10, Epoch Loss: 0.0001724425092106685\n",
      "Epoch 10/10, Epoch Loss: 9.784070425666869e-05\n"
     ]
    }
   ],
   "source": [
    "import torch.nn as nn\n",
    "import torch.optim as optim\n",
    "\n",
    "batch_size = 32\n",
    "epochs = 10\n",
    "lr = 0.001\n",
    "\n",
    "\n",
    "model = ChessEvaluationConvolutionalNetwork()\n",
    "criterion = nn.MSELoss()\n",
    "optimizer = optim.Adam(model.parameters(), lr=0.001)\n",
    "\n",
    "# Training Loop\n",
    "for epoch in range(epochs):\n",
    "    loss = 0\n",
    "    model.train()\n",
    "\n",
    "    for x_board, x_meta, target in train_loader:\n",
    "        optimizer.zero_grad()\n",
    "        output = model(x_board, x_meta)\n",
    "        loss = criterion(output, target)\n",
    "        loss.backward()\n",
    "        #torch.nn.utils.clip_grad_norm_(model.parameters(), max_norm=1.0)\n",
    "        optimizer.step()\n",
    "\n",
    "    print(f\"Epoch {epoch+1}/{epochs}, Epoch Loss: {loss}\")"
   ]
  },
  {
   "cell_type": "code",
   "execution_count": 10,
   "id": "1d8f4ad9",
   "metadata": {},
   "outputs": [
    {
     "name": "stdout",
     "output_type": "stream",
     "text": [
      "\n",
      "Test RMSE: 0.0266\n"
     ]
    }
   ],
   "source": [
    "import numpy as np\n",
    "model.eval()\n",
    "test_loss = 0.0\n",
    "with torch.no_grad():\n",
    "    for x_board, x_meta, target in test_loader:\n",
    "        outputs = model(x_board, x_meta)\n",
    "        loss = criterion(outputs, target)\n",
    "        test_loss += loss.item()\n",
    "\n",
    "avg_test_loss = test_loss / len(test_loader)\n",
    "rmse_error = np.sqrt(avg_test_loss)\n",
    "print(f\"\\nTest RMSE: {rmse_error:.4f}\")"
   ]
  },
  {
   "cell_type": "code",
   "execution_count": 11,
   "id": "13458bd1",
   "metadata": {},
   "outputs": [],
   "source": [
    "torch.save(model.state_dict(), 'convolutional_network.pth')"
   ]
  }
 ],
 "metadata": {
  "kernelspec": {
   "display_name": "venv",
   "language": "python",
   "name": "python3"
  },
  "language_info": {
   "codemirror_mode": {
    "name": "ipython",
    "version": 3
   },
   "file_extension": ".py",
   "mimetype": "text/x-python",
   "name": "python",
   "nbconvert_exporter": "python",
   "pygments_lexer": "ipython3",
   "version": "3.11.6"
  }
 },
 "nbformat": 4,
 "nbformat_minor": 5
}
